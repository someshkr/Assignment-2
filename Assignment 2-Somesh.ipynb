{
 "cells": [
  {
   "cell_type": "markdown",
   "metadata": {},
   "source": [
    "# Task 1"
   ]
  },
  {
   "cell_type": "markdown",
   "metadata": {},
   "source": [
    "Write a Python Program to implement your own myreduce() function which works exactly likePython's built-in function reduce()"
   ]
  },
  {
   "cell_type": "code",
   "execution_count": 1,
   "metadata": {},
   "outputs": [
    {
     "name": "stdout",
     "output_type": "stream",
     "text": [
      "using myreduce function :\n",
      " 25\n"
     ]
    }
   ],
   "source": [
    "def myreduce(fun,seq):\n",
    "    res = seq[0]\n",
    "    for i in seq[1:]:\n",
    "        res = fun(res,i)\n",
    "    return res\n",
    "def test_add(x,y):\n",
    "   return x+y\n",
    "\n",
    "print('using myreduce function :\\n',str(myreduce(test_add,[-2,9,-5,23])))"
   ]
  },
  {
   "cell_type": "markdown",
   "metadata": {},
   "source": [
    "Write a Python program to implement your own myfilter() function which works exactly likePython's built-in function filter()"
   ]
  },
  {
   "cell_type": "code",
   "execution_count": 2,
   "metadata": {},
   "outputs": [
    {
     "name": "stdout",
     "output_type": "stream",
     "text": [
      "using myfilter function filtering odd numbers : \n",
      " [57, 77]\n"
     ]
    }
   ],
   "source": [
    "def myfilter(fun,seq):\n",
    "    res = []\n",
    "    for i in seq:\n",
    "        if fun(i):\n",
    "            res.append(i)\n",
    "    return res\n",
    "\n",
    "def test_odd(x):\n",
    "    if x % 2 != 0:\n",
    "        return True\n",
    "    else:\n",
    "        return False\n",
    "\n",
    "print('using myfilter function filtering odd numbers : \\n',str(myfilter(test_odd,[4,57,98,8,77])))"
   ]
  },
  {
   "cell_type": "markdown",
   "metadata": {},
   "source": [
    "implement list comprehension"
   ]
  },
  {
   "cell_type": "code",
   "execution_count": 3,
   "metadata": {},
   "outputs": [
    {
     "name": "stdout",
     "output_type": "stream",
     "text": [
      "['A', 'C', 'A', 'G', 'I', 'L', 'D']\n",
      "['x', 'xx', 'xxx', 'xxxx', 'y', 'yy', 'yyy', 'yyyy', 'z', 'zz', 'zzz', 'zzzz']\n",
      "['x', 'y', 'z', 'xx', 'yy', 'zz', 'xxx', 'yyy', 'zzz', 'xxxx', 'yyyy', 'zzzz']\n",
      "[[2], [3], [4], [3], [4], [5], [4], [5], [6]]\n",
      "[[2, 3, 4, 5], [3, 4, 5, 6], [4, 5, 6, 7], [5, 6, 7, 8]]\n",
      "[(1, 1), (1, 2), (1, 3), (2, 1), (2, 2), (2, 3), (3, 1), (3, 2), (3, 3)]\n"
     ]
    }
   ],
   "source": [
    "a = [i for i in 'ACAGILD']\n",
    "b = [i*j for i in ['x','y','z'] for j in range(1,5)]\n",
    "c = [i*j for j in range(1,5) for i in ['x','y','z']]\n",
    "d = [[i+j] for i in range(0,3) for j in [2,3,4]]\n",
    "e = [[i+j for i in range(0,4) ]for j in [2, 3, 4, 5]]\n",
    "f = [(i,j) for i in [1,2,3] for j in [1,2,3]]\n",
    "print(a)\n",
    "print(b)\n",
    "print(c)\n",
    "print(d)\n",
    "print(e)\n",
    "print(f)"
   ]
  },
  {
   "cell_type": "markdown",
   "metadata": {},
   "source": [
    "Implement a function longestWord() that takes a list of words and returns the longest one."
   ]
  },
  {
   "cell_type": "code",
   "execution_count": 8,
   "metadata": {},
   "outputs": [
    {
     "name": "stdout",
     "output_type": "stream",
     "text": [
      "longest word:  programming\n"
     ]
    }
   ],
   "source": [
    "from functools import reduce\n",
    "def longestWord(wordlist):\n",
    "    return reduce((lambda x,y : y if len(y) > len(x) else x),wordlist)\n",
    "\n",
    "wordlist = ['python','is','easy','programming','language']\n",
    "print('longest word: ',longestWord(wordlist))"
   ]
  },
  {
   "cell_type": "markdown",
   "metadata": {},
   "source": [
    "# Task 2"
   ]
  },
  {
   "cell_type": "markdown",
   "metadata": {},
   "source": [
    "Write a Python Program(with class concepts) to find the area of the triangle using the belowformula.area = (s*(s-a)*(s-b)*(s-c)) ** 0.5Function to take the length of the sides of triangle from user should be defined in the parentclass and function to calculate the area should be defined in subclass."
   ]
  },
  {
   "cell_type": "code",
   "execution_count": 4,
   "metadata": {},
   "outputs": [
    {
     "name": "stdout",
     "output_type": "stream",
     "text": [
      "enter length of side a 5\n",
      "enter length of side b 6\n",
      "enter length of side c 7\n",
      "14.696938456699069\n"
     ]
    }
   ],
   "source": [
    "class Triangle:\n",
    "    def __init__(self, a, b, c):\n",
    "        self.a = a\n",
    "        self.b = b\n",
    "        self.c = c\n",
    "\n",
    "\n",
    "class Area(Triangle):\n",
    "    def __init__(self, a, b, c):\n",
    "        super().__init__(a, b, c)\n",
    "\n",
    "\n",
    "    def calc_area(self):\n",
    "        s = (self.a+self.b+self.c)/2\n",
    "        area = (s * (s - self.a) * (s - self.b) * (s - self.c)) ** 0.5\n",
    "        print(area)\n",
    "\n",
    "a = int(input('enter length of side a '))\n",
    "b = int(input('enter length of side b '))\n",
    "c = int(input('enter length of side c '))\n",
    "t = Area(a,b,c)\n",
    "t.calc_area()"
   ]
  },
  {
   "cell_type": "markdown",
   "metadata": {},
   "source": [
    "Write a function filter_long_words() that takes a list of words and an integer n and returns the listof words that are longer than n."
   ]
  },
  {
   "cell_type": "code",
   "execution_count": 5,
   "metadata": {},
   "outputs": [
    {
     "data": {
      "text/plain": [
       "['python', 'programming', 'language', 'canopy']"
      ]
     },
     "execution_count": 5,
     "metadata": {},
     "output_type": "execute_result"
    }
   ],
   "source": [
    "def filter_long_words(words,n):\n",
    "    wordlist = []\n",
    "    for i in range(len(words)):\n",
    "        if len(words[i]) > n:\n",
    "            wordlist.append(words[i])\n",
    "    return wordlist\n",
    "\n",
    "words = ['python','programming','language','world','canopy']\n",
    "n = 5\n",
    "filter_long_words(words,n)"
   ]
  },
  {
   "cell_type": "markdown",
   "metadata": {},
   "source": [
    "Write a Python program using function concept that maps  list of words into a list of integersrepresenting the lengths of the corresponding words​."
   ]
  },
  {
   "cell_type": "code",
   "execution_count": 6,
   "metadata": {},
   "outputs": [
    {
     "data": {
      "text/plain": [
       "[2, 3, 4]"
      ]
     },
     "execution_count": 6,
     "metadata": {},
     "output_type": "execute_result"
    }
   ],
   "source": [
    "def map_length(words):\n",
    "    return [len(word) for word in words]\n",
    "\n",
    "words= ['ab','cde','erty']\n",
    "map_length(words)"
   ]
  },
  {
   "cell_type": "markdown",
   "metadata": {},
   "source": [
    "Write a Python function which takes a character (i.e. a string of length 1) and returns True if it isa vowel, False otherwise."
   ]
  },
  {
   "cell_type": "code",
   "execution_count": 7,
   "metadata": {},
   "outputs": [
    {
     "name": "stdout",
     "output_type": "stream",
     "text": [
      "True\n",
      "False\n"
     ]
    }
   ],
   "source": [
    "def isVowel(char):\n",
    "    vowel = 'aeiou'\n",
    "    if char in vowel:\n",
    "        return True\n",
    "    return False\n",
    "print(isVowel('a'))\n",
    "print(isVowel('r')) "
   ]
  },
  {
   "cell_type": "code",
   "execution_count": null,
   "metadata": {},
   "outputs": [],
   "source": []
  }
 ],
 "metadata": {
  "kernelspec": {
   "display_name": "Python 3",
   "language": "python",
   "name": "python3"
  },
  "language_info": {
   "codemirror_mode": {
    "name": "ipython",
    "version": 3
   },
   "file_extension": ".py",
   "mimetype": "text/x-python",
   "name": "python",
   "nbconvert_exporter": "python",
   "pygments_lexer": "ipython3",
   "version": "3.7.4"
  }
 },
 "nbformat": 4,
 "nbformat_minor": 2
}
